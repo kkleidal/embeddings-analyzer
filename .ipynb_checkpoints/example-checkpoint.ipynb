{
 "cells": [
  {
   "cell_type": "markdown",
   "metadata": {},
   "source": [
    "# Basic run-through of Python API"
   ]
  },
  {
   "cell_type": "code",
   "execution_count": 8,
   "metadata": {
    "collapsed": true
   },
   "outputs": [],
   "source": [
    "import matplotlib.pyplot as plt\n",
    "import embeddings_analyzer.toy_data as toy_data\n",
    "import embeddings_analyzer.analyzer as analyzer"
   ]
  },
  {
   "cell_type": "code",
   "execution_count": 3,
   "metadata": {},
   "outputs": [],
   "source": [
    "toy_data.make_toy_data(dims=3, producer=\"gmm\", n=200, outfile=\"./out.npz\")\n",
    "# Or see embeddings_analyzer.encoder.to_file for how to create your own embeddings file"
   ]
  },
  {
   "cell_type": "code",
   "execution_count": 9,
   "metadata": {},
   "outputs": [
    {
     "data": {
      "image/png": "[encoded data removed]",
      "text/plain": [
       "<matplotlib.figure.Figure at 0x7f974cb5eda0>"
      ]
     },
     "metadata": {},
     "output_type": "display_data"
    }
   ],
   "source": [
    "with open(\"out.npz\", \"rb\") as f:\n",
    "    analyzer.analyze(plt=plt, analysis=\"projection\", input=f, interactive=True, color_by=\"ground_truth\",\n",
    "                     shape_by=\"predictions\", keep_percentage=0.2)"
   ]
  },
  {
   "cell_type": "code",
   "execution_count": 10,
   "metadata": {},
   "outputs": [
    {
     "data": {
      "text/html": [
       "<div>\n",
       "<style>\n",
       "    .dataframe thead tr:only-child th {\n",
       "        text-align: right;\n",
       "    }\n",
       "\n",
       "    .dataframe thead th {\n",
       "        text-align: left;\n",
       "    }\n",
       "\n",
       "    .dataframe tbody tr th {\n",
       "        vertical-align: top;\n",
       "    }\n",
       "</style>\n",
       "<table border=\"1\" class=\"dataframe\">\n",
       "  <thead>\n",
       "    <tr style=\"text-align: right;\">\n",
       "      <th></th>\n",
       "      <th>ground_truth</th>\n",
       "      <th>predictions</th>\n",
       "    </tr>\n",
       "  </thead>\n",
       "  <tbody>\n",
       "    <tr>\n",
       "      <th>ground_truth</th>\n",
       "      <td>1.000000</td>\n",
       "      <td>0.627108</td>\n",
       "    </tr>\n",
       "    <tr>\n",
       "      <th>predictions</th>\n",
       "      <td>0.627108</td>\n",
       "      <td>1.000000</td>\n",
       "    </tr>\n",
       "  </tbody>\n",
       "</table>\n",
       "</div>"
      ],
      "text/plain": [
       "              ground_truth  predictions\n",
       "ground_truth      1.000000     0.627108\n",
       "predictions       0.627108     1.000000"
      ]
     },
     "metadata": {},
     "output_type": "display_data"
    }
   ],
   "source": [
    "with open(\"out.npz\", \"rb\") as f:\n",
    "    analyzer.analyze(plt=plt, analysis=\"nmi\", input=f, interactive=True)"
   ]
  },
  {
   "cell_type": "code",
   "execution_count": 11,
   "metadata": {},
   "outputs": [
    {
     "data": {
      "text/html": [
       "<div>\n",
       "<style>\n",
       "    .dataframe thead tr:only-child th {\n",
       "        text-align: right;\n",
       "    }\n",
       "\n",
       "    .dataframe thead th {\n",
       "        text-align: left;\n",
       "    }\n",
       "\n",
       "    .dataframe tbody tr th {\n",
       "        vertical-align: top;\n",
       "    }\n",
       "</style>\n",
       "<table border=\"1\" class=\"dataframe\">\n",
       "  <thead>\n",
       "    <tr style=\"text-align: right;\">\n",
       "      <th></th>\n",
       "      <th>ground_truth</th>\n",
       "      <th>predictions</th>\n",
       "    </tr>\n",
       "  </thead>\n",
       "  <tbody>\n",
       "    <tr>\n",
       "      <th>Cluster purity</th>\n",
       "      <td>1.0</td>\n",
       "      <td>0.87</td>\n",
       "    </tr>\n",
       "  </tbody>\n",
       "</table>\n",
       "</div>"
      ],
      "text/plain": [
       "                ground_truth  predictions\n",
       "Cluster purity           1.0         0.87"
      ]
     },
     "metadata": {},
     "output_type": "display_data"
    }
   ],
   "source": [
    "with open(\"out.npz\", \"rb\") as f:\n",
    "    analyzer.analyze(plt=plt, analysis=\"cluster_purity\", k=3, input=f, interactive=True)"
   ]
  },
  {
   "cell_type": "code",
   "execution_count": 12,
   "metadata": {},
   "outputs": [
    {
     "data": {
      "text/html": [
       "<div>\n",
       "<style>\n",
       "    .dataframe thead tr:only-child th {\n",
       "        text-align: right;\n",
       "    }\n",
       "\n",
       "    .dataframe thead th {\n",
       "        text-align: left;\n",
       "    }\n",
       "\n",
       "    .dataframe tbody tr th {\n",
       "        vertical-align: top;\n",
       "    }\n",
       "</style>\n",
       "<table border=\"1\" class=\"dataframe\">\n",
       "  <thead>\n",
       "    <tr style=\"text-align: right;\">\n",
       "      <th></th>\n",
       "      <th>ground_truth</th>\n",
       "      <th>predictions</th>\n",
       "    </tr>\n",
       "  </thead>\n",
       "  <tbody>\n",
       "    <tr>\n",
       "      <th>Cluster purity</th>\n",
       "      <td>1.0</td>\n",
       "      <td>0.87</td>\n",
       "    </tr>\n",
       "  </tbody>\n",
       "</table>\n",
       "</div>"
      ],
      "text/plain": [
       "                ground_truth  predictions\n",
       "Cluster purity           1.0         0.87"
      ]
     },
     "metadata": {},
     "output_type": "display_data"
    },
    {
     "data": {
      "text/plain": [
       "'Cluster centers:'"
      ]
     },
     "metadata": {},
     "output_type": "display_data"
    },
    {
     "data": {
      "text/plain": [
       "array([[-3.29647465,  7.94095054,  4.38855859],\n",
       "       [ 1.40683404, -1.89679316,  2.36870128],\n",
       "       [-2.77233921,  8.8366754 , -0.95900402]])"
      ]
     },
     "metadata": {},
     "output_type": "display_data"
    },
    {
     "data": {
      "text/plain": [
       "'Clustering:'"
      ]
     },
     "metadata": {},
     "output_type": "display_data"
    },
    {
     "data": {
      "text/plain": [
       "array([0, 1, 0, 1, 1, 0, 0, 2, 0, 0, 0, 2, 2, 1, 1, 1, 2, 0, 1, 1, 0, 0, 2,\n",
       "       0, 2, 1, 1, 1, 2, 1, 0, 0, 0, 1, 0, 0, 2, 1, 2, 0, 1, 1, 2, 1, 1, 1,\n",
       "       0, 2, 0, 1, 2, 0, 1, 0, 0, 0, 0, 0, 1, 0, 1, 2, 0, 2, 1, 1, 1, 0, 1,\n",
       "       0, 1, 2, 0, 2, 0, 1, 0, 2, 1, 2, 2, 0, 0, 0, 2, 0, 1, 0, 1, 2, 0, 2,\n",
       "       2, 0, 0, 0, 1, 0, 1, 1, 1, 0, 1, 1, 0, 1, 2, 1, 2, 1, 0, 0, 0, 0, 0,\n",
       "       1, 0, 1, 0, 0, 0, 1, 1, 1, 0, 1, 1, 2, 0, 0, 0, 0, 2, 2, 0, 1, 1, 2,\n",
       "       2, 2, 0, 1, 1, 2, 0, 1, 0, 2, 0, 1, 2, 1, 0, 1, 2, 0, 1, 1, 2, 0, 0,\n",
       "       1, 1, 1, 2, 0, 0, 1, 0, 0, 0, 2, 0, 1, 1, 0, 0, 1, 1, 2, 2, 2, 0, 2,\n",
       "       1, 0, 1, 0, 0, 2, 1, 0, 0, 2, 0, 0, 0, 1, 0, 0], dtype=int32)"
      ]
     },
     "metadata": {},
     "output_type": "display_data"
    }
   ],
   "source": [
    "with open(\"out.npz\", \"rb\") as f:\n",
    "    analyzer.analyze(plt=plt, analysis=\"cluster_purity\", k=3, input=f, interactive=True, verbose=True)"
   ]
  }
 ],
 "metadata": {
  "kernelspec": {
   "display_name": "Python 3",
   "language": "python",
   "name": "python3"
  },
  "language_info": {
   "codemirror_mode": {
    "name": "ipython",
    "version": 3
   },
   "file_extension": ".py",
   "mimetype": "text/x-python",
   "name": "python",
   "nbconvert_exporter": "python",
   "pygments_lexer": "ipython3",
   "version": "3.6.1"
  }
 },
 "nbformat": 4,
 "nbformat_minor": 2
}
